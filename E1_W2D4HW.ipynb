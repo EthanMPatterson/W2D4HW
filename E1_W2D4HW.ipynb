{
 "cells": [
  {
   "cell_type": "markdown",
   "metadata": {},
   "source": [
    "<h3>Exercise 1</h3><p>Develop a user-friendly program that acts as an address book. The program should have the following functionalities:\n",
    "\n",
    "1. Upon starting the program, create an empty dictionary to store names and addresses.\n",
    "\n",
    "2. Allow the user to add people to the address book. For each entry, prompt the user to input a name and its corresponding address. Store these as key-value pairs in the dictionary.\n",
    "\n",
    "3. Provide a clear and straightforward menu for the user, including options to add a new entry or quit the program.\n",
    "\n",
    "4. Implement a loop that allows users to continue adding entries until they explicitly choose to quit.\n",
    "\n",
    "5. When the user decides to quit, break out of the loop and display the collected information. Print out the names and addresses of everyone in the address book in a well-formatted manner.\n",
    "\n",
    "6. Consider adding error handling to handle unexpected inputs gracefully. For instance, if the user provides invalid input when prompted for a name or address, handle the error and ask for the information again.\n",
    "\n",
    "7. Provide a user-friendly and informative message when the program terminates, summarizing the data entered and thanking the user for using the address book.</p>"
   ]
  },
  {
   "cell_type": "code",
   "execution_count": 12,
   "metadata": {},
   "outputs": [
    {
     "name": "stdout",
     "output_type": "stream",
     "text": [
      "Menue options:\n",
      " 1: Create a new entry\n",
      " 2: Delete entry \n",
      " 3: Exit  \n",
      "Ethan Patterson lives at 5545 County R. O, Wiggins CO 80654\n",
      "--------------------------------------------------\n",
      "Menue options:\n",
      " 1: Create a new entry\n",
      " 2: Delete entry \n",
      " 3: Exit  \n",
      "Ethan Patterson's information has been removed\n"
     ]
    }
   ],
   "source": [
    "\n",
    "def addy_storage():\n",
    "    addy_dict = {}\n",
    "    while True:\n",
    "        print('Menue options:\\n 1: Create a new entry\\n 2: Delete entry \\n 3: Exit  ')\n",
    "        menu = input('Please refer to the menue options below to choose an option')\n",
    "        if menu == '3':\n",
    "            print('Thank you for using this program your session has been terminated')\n",
    "            break\n",
    "        elif menu == '2': \n",
    "            dentry = input('Which entry would you like to delete')\n",
    "            confirm = input(f'Are you sure you want to delete {dentry} from the address log (y for yes n for no)?').lower\n",
    "            if confirm == 'y':\n",
    "                del addy_dict[dentry]\n",
    "            print(f\"{dentry}'s information has been removed\")\n",
    "            return\n",
    "        elif menu == '1':\n",
    "            name = input('Enter Name').title()\n",
    "            address = input(f\"Enter address for {name}\")\n",
    "            addy_dict[name] = address\n",
    "        for name in addy_dict:\n",
    "            print(f\"{name} lives at {addy_dict[name]}\")\n",
    "            print('-'*50)\n",
    "\n",
    "\n",
    "addy_storage()\n",
    "\n"
   ]
  }
 ],
 "metadata": {
  "kernelspec": {
   "display_name": "Python 3",
   "language": "python",
   "name": "python3"
  },
  "language_info": {
   "codemirror_mode": {
    "name": "ipython",
    "version": 3
   },
   "file_extension": ".py",
   "mimetype": "text/x-python",
   "name": "python",
   "nbconvert_exporter": "python",
   "pygments_lexer": "ipython3",
   "version": "3.12.2"
  }
 },
 "nbformat": 4,
 "nbformat_minor": 2
}
