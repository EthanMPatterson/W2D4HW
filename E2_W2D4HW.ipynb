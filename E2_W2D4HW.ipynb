{
 "cells": [
  {
   "cell_type": "markdown",
   "metadata": {},
   "source": [
    "<h3>Exercise 2</h3> <p>Billy is trying to figure out if there is a time that he and his team can meet to work on the project. His three teammates each give him a set of times they are available ('HH:MM' 24-hour). Create a function that will take in any number of sets of available times (*remember \\*args*) and return a set of times where everyone can meet.</p>"
   ]
  },
  {
   "cell_type": "code",
   "execution_count": 2,
   "metadata": {},
   "outputs": [
    {
     "name": "stdout",
     "output_type": "stream",
     "text": [
      "{'12:00', '14:30'}\n"
     ]
    }
   ],
   "source": [
    "person1 = {'09:00', '10:30', '11:30', '12:00', '13:00', '14:30'}\n",
    "person2 = {'09:30', '10:00', '10:30', '12:00', '14:30', '16:00'}\n",
    "person3 = {'09:00', '09:30', '11:00', '11:30', '12:00', '13:30', '14:30', '15:00'}\n",
    "person4 = {'11:00', '11:30', '12:00', '14:00', '14:30', '16:30', '17:00'}\n",
    "\n",
    "def best_times(*times):\n",
    "    all_times = times[0]\n",
    "    for time in times:\n",
    "        all_times = all_times.intersection(time)\n",
    "    print(all_times)\n",
    "\n",
    "best_times(person1, person2, person3, person4)"
   ]
  },
  {
   "cell_type": "code",
   "execution_count": null,
   "metadata": {},
   "outputs": [],
   "source": []
  }
 ],
 "metadata": {
  "kernelspec": {
   "display_name": "Python 3",
   "language": "python",
   "name": "python3"
  },
  "language_info": {
   "codemirror_mode": {
    "name": "ipython",
    "version": 3
   },
   "file_extension": ".py",
   "mimetype": "text/x-python",
   "name": "python",
   "nbconvert_exporter": "python",
   "pygments_lexer": "ipython3",
   "version": "3.12.2"
  }
 },
 "nbformat": 4,
 "nbformat_minor": 2
}
